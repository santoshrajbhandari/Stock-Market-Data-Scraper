{
 "cells": [
  {
   "cell_type": "code",
   "execution_count": 6,
   "metadata": {},
   "outputs": [
    {
     "name": "stdout",
     "output_type": "stream",
     "text": [
      "Requirement already satisfied: selenium in c:\\users\\newas\\anaconda3\\lib\\site-packages (4.30.0)Note: you may need to restart the kernel to use updated packages.\n",
      "\n",
      "Requirement already satisfied: urllib3<3,>=1.26 in c:\\users\\newas\\anaconda3\\lib\\site-packages (from urllib3[socks]<3,>=1.26->selenium) (2.0.7)\n",
      "Requirement already satisfied: trio~=0.17 in c:\\users\\newas\\anaconda3\\lib\\site-packages (from selenium) (0.29.0)\n",
      "Requirement already satisfied: trio-websocket~=0.9 in c:\\users\\newas\\anaconda3\\lib\\site-packages (from selenium) (0.12.2)\n",
      "Requirement already satisfied: certifi>=2021.10.8 in c:\\users\\newas\\anaconda3\\lib\\site-packages (from selenium) (2025.1.31)\n",
      "Requirement already satisfied: typing_extensions~=4.9 in c:\\users\\newas\\anaconda3\\lib\\site-packages (from selenium) (4.12.2)\n",
      "Requirement already satisfied: websocket-client~=1.8 in c:\\users\\newas\\anaconda3\\lib\\site-packages (from selenium) (1.8.0)\n",
      "Requirement already satisfied: attrs>=23.2.0 in c:\\users\\newas\\anaconda3\\lib\\site-packages (from trio~=0.17->selenium) (25.3.0)\n",
      "Requirement already satisfied: sortedcontainers in c:\\users\\newas\\anaconda3\\lib\\site-packages (from trio~=0.17->selenium) (2.4.0)\n",
      "Requirement already satisfied: idna in c:\\users\\newas\\anaconda3\\lib\\site-packages (from trio~=0.17->selenium) (3.4)\n",
      "Requirement already satisfied: outcome in c:\\users\\newas\\anaconda3\\lib\\site-packages (from trio~=0.17->selenium) (1.3.0.post0)\n",
      "Requirement already satisfied: sniffio>=1.3.0 in c:\\users\\newas\\anaconda3\\lib\\site-packages (from trio~=0.17->selenium) (1.3.0)\n",
      "Requirement already satisfied: cffi>=1.14 in c:\\users\\newas\\anaconda3\\lib\\site-packages (from trio~=0.17->selenium) (1.16.0)\n",
      "Requirement already satisfied: wsproto>=0.14 in c:\\users\\newas\\anaconda3\\lib\\site-packages (from trio-websocket~=0.9->selenium) (1.2.0)\n",
      "Requirement already satisfied: pysocks!=1.5.7,<2.0,>=1.5.6 in c:\\users\\newas\\anaconda3\\lib\\site-packages (from urllib3[socks]<3,>=1.26->selenium) (1.7.1)\n",
      "Requirement already satisfied: pycparser in c:\\users\\newas\\anaconda3\\lib\\site-packages (from cffi>=1.14->trio~=0.17->selenium) (2.21)\n",
      "Requirement already satisfied: h11<1,>=0.9.0 in c:\\users\\newas\\anaconda3\\lib\\site-packages (from wsproto>=0.14->trio-websocket~=0.9->selenium) (0.14.0)\n"
     ]
    }
   ],
   "source": [
    "%pip install selenium"
   ]
  },
  {
   "cell_type": "code",
   "execution_count": null,
   "metadata": {},
   "outputs": [
    {
     "ename": "TypeError",
     "evalue": "WebDriver.__init__() got an unexpected keyword argument 'executable_path'",
     "output_type": "error",
     "traceback": [
      "\u001b[1;31m---------------------------------------------------------------------------\u001b[0m",
      "\u001b[1;31mTypeError\u001b[0m                                 Traceback (most recent call last)",
      "Cell \u001b[1;32mIn[9], line 19\u001b[0m\n\u001b[0;32m     17\u001b[0m options\u001b[38;5;241m.\u001b[39madd_argument(\u001b[38;5;124m\"\u001b[39m\u001b[38;5;124m--disable-gpu\u001b[39m\u001b[38;5;124m\"\u001b[39m)\n\u001b[0;32m     18\u001b[0m options\u001b[38;5;241m.\u001b[39madd_argument(\u001b[38;5;124m\"\u001b[39m\u001b[38;5;124m--no-sandbox\u001b[39m\u001b[38;5;124m\"\u001b[39m)\n\u001b[1;32m---> 19\u001b[0m driver \u001b[38;5;241m=\u001b[39m webdriver\u001b[38;5;241m.\u001b[39mEdge(executable_path\u001b[38;5;241m=\u001b[39mwebdriver_path, options\u001b[38;5;241m=\u001b[39moptions)\n\u001b[0;32m     21\u001b[0m \u001b[38;5;28;01mtry\u001b[39;00m:\n\u001b[0;32m     22\u001b[0m     \u001b[38;5;66;03m# Open the webpage\u001b[39;00m\n\u001b[0;32m     23\u001b[0m     driver\u001b[38;5;241m.\u001b[39mget(url)\n",
      "\u001b[1;31mTypeError\u001b[0m: WebDriver.__init__() got an unexpected keyword argument 'executable_path'"
     ]
    }
   ],
   "source": [
    "v"
   ]
  },
  {
   "cell_type": "code",
   "execution_count": 12,
   "metadata": {},
   "outputs": [
    {
     "name": "stdout",
     "output_type": "stream",
     "text": [
      "Data successfully saved to latest_market_data.csv\n",
      "     Symbol       LTP % Change      Open      High       Low     Qty.  \\\n",
      "0    ACLBSL  1,048.00     0.83  1,021.00  1,050.00  1,021.00    2,042   \n",
      "1      ADBL    282.17     0.57    280.00    283.00    278.50   18,208   \n",
      "2       AHL    723.84     0.54    734.00    734.00    706.20    3,571   \n",
      "3      AHPC    251.32     2.51    245.00    253.00    245.00  118,818   \n",
      "4     AKJCL    201.55     1.03    195.60    203.00    195.60  114,124   \n",
      "..      ...       ...      ...       ...       ...       ...      ...   \n",
      "312    USHL    730.43     0.75    735.00    754.10    728.10    1,403   \n",
      "313    USLB  1,669.38     2.88  1,650.00  1,689.90  1,638.50      966   \n",
      "314    VLBS    840.72     2.37    807.00    845.00    807.00    1,583   \n",
      "315   VLUCL    660.20     1.41    660.00    673.00    647.30   10,773   \n",
      "316    WNLB  2,906.55     0.13  2,845.00  2,920.00  2,751.00    1,280   \n",
      "\n",
      "       PClose  Diff.        \n",
      "0    1,039.38   8.62        \n",
      "1      280.58   1.59        \n",
      "2      719.98   3.86        \n",
      "3      245.16   6.16        \n",
      "4      199.49   2.06        \n",
      "..        ...    ... .. ..  \n",
      "312    725.02   5.41        \n",
      "313  1,622.68   46.7        \n",
      "314    821.29  19.43        \n",
      "315    651.02   9.18        \n",
      "316  2,902.68   3.87        \n",
      "\n",
      "[317 rows x 11 columns]\n"
     ]
    }
   ],
   "source": [
    "from selenium import webdriver\n",
    "from selenium.webdriver.common.by import By\n",
    "from selenium.webdriver.support.ui import WebDriverWait\n",
    "from selenium.webdriver.support import expected_conditions as EC\n",
    "from selenium.webdriver.edge.service import Service  \n",
    "from bs4 import BeautifulSoup\n",
    "import pandas as pd\n",
    "\n",
    "# Path to your WebDriver (update this path)\n",
    "webdriver_path = \"D:\\\\power_bi\\\\edgedriver_win64\\\\msedgedriver.exe\"\n",
    "\n",
    "# URL of the page containing the table\n",
    "url = \"https://merolagani.com/LatestMarket.aspx\"\n",
    "\n",
    "# Set up Selenium WebDriver\n",
    "options = webdriver.EdgeOptions()\n",
    "options.add_argument(\"--headless\")  # Run in headless mode (no UI)\n",
    "options.add_argument(\"--disable-gpu\")\n",
    "options.add_argument(\"--no-sandbox\")\n",
    "\n",
    "# Use Service to specify the WebDriver path\n",
    "service = Service(webdriver_path)\n",
    "driver = webdriver.Edge(service=service, options=options)\n",
    "\n",
    "try:\n",
    "    # Open the webpage\n",
    "    driver.get(url)\n",
    "\n",
    "    # Wait for the table to load\n",
    "    WebDriverWait(driver, 20).until(\n",
    "        EC.presence_of_element_located((By.CSS_SELECTOR, \"table[data-live='live-trading']\"))\n",
    "    )\n",
    "\n",
    "    # Get the updated page source after JavaScript execution\n",
    "    html = driver.page_source\n",
    "\n",
    "    # Parse the HTML content with BeautifulSoup\n",
    "    soup = BeautifulSoup(html, 'html.parser')\n",
    "\n",
    "    # Locate the table using the data-live attribute\n",
    "    table = soup.find(\"table\", {\"data-live\": \"live-trading\"})\n",
    "    if not table:\n",
    "        raise Exception(\"Table not found on the page.\")\n",
    "\n",
    "    # Extract headers from the <thead>\n",
    "    headers = [th.get_text(strip=True) for th in table.find(\"thead\").find_all(\"th\")]\n",
    "\n",
    "    # Extract rows from <tbody>\n",
    "    rows = []\n",
    "    tbody = table.find(\"tbody\")\n",
    "    if tbody:\n",
    "        for tr in tbody.find_all(\"tr\"):\n",
    "            cells = [td.get_text(strip=True) for td in tr.find_all(\"td\")]\n",
    "            if cells:  # Avoid empty rows\n",
    "                rows.append(cells)\n",
    "\n",
    "    # Check if data was extracted\n",
    "    if not rows:\n",
    "        raise Exception(\"No data found in the table.\")\n",
    "\n",
    "    # Create a pandas DataFrame\n",
    "    df = pd.DataFrame(rows, columns=headers)\n",
    "\n",
    "    # Save data to CSV\n",
    "    df.to_csv(\"latest_market_data.csv\", index=False)\n",
    "    print(\"Data successfully saved to latest_market_data.csv\")\n",
    "\n",
    "    # Print DataFrame\n",
    "    print(df)\n",
    "\n",
    "except Exception as e:\n",
    "    print(f\"Error: {e}\")\n",
    "\n",
    "finally:\n",
    "    # Close the WebDriver\n",
    "    driver.quit()\n"
   ]
  },
  {
   "cell_type": "code",
   "execution_count": 13,
   "metadata": {},
   "outputs": [
    {
     "name": "stdout",
     "output_type": "stream",
     "text": [
      "Data successfully saved to latest_market_data.csv\n"
     ]
    }
   ],
   "source": [
    "# Save data to CSV\n",
    "df.to_csv(\"latest_market_data.csv\", index=False)\n",
    "\n",
    "print(\"Data successfully saved to latest_market_data.csv\")\n"
   ]
  }
 ],
 "metadata": {
  "kernelspec": {
   "display_name": "base",
   "language": "python",
   "name": "python3"
  },
  "language_info": {
   "codemirror_mode": {
    "name": "ipython",
    "version": 3
   },
   "file_extension": ".py",
   "mimetype": "text/x-python",
   "name": "python",
   "nbconvert_exporter": "python",
   "pygments_lexer": "ipython3",
   "version": "3.11.7"
  }
 },
 "nbformat": 4,
 "nbformat_minor": 2
}
